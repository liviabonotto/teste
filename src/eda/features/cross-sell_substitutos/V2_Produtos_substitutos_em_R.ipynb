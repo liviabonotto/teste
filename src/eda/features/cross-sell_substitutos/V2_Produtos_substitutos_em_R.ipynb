{
  "nbformat": 4,
  "nbformat_minor": 0,
  "metadata": {
    "colab": {
      "provenance": []
    },
    "kernelspec": {
      "name": "ir",
      "display_name": "R"
    },
    "language_info": {
      "name": "R"
    }
  },
  "cells": [
    {
      "cell_type": "code",
      "execution_count": null,
      "metadata": {
        "colab": {
          "base_uri": "https://localhost:8080/"
        },
        "id": "FwmuD-eoNEdu",
        "outputId": "1bb8fa05-8639-4b79-a546-ebb9e3fd9931"
      },
      "outputs": [
        {
          "output_type": "stream",
          "name": "stderr",
          "text": [
            "Installing package into ‘/usr/local/lib/R/site-library’\n",
            "(as ‘lib’ is unspecified)\n",
            "\n",
            "Installing package into ‘/usr/local/lib/R/site-library’\n",
            "(as ‘lib’ is unspecified)\n",
            "\n",
            "Installing package into ‘/usr/local/lib/R/site-library’\n",
            "(as ‘lib’ is unspecified)\n",
            "\n",
            "Installing package into ‘/usr/local/lib/R/site-library’\n",
            "(as ‘lib’ is unspecified)\n",
            "\n",
            "Installing package into ‘/usr/local/lib/R/site-library’\n",
            "(as ‘lib’ is unspecified)\n",
            "\n",
            "Installing package into ‘/usr/local/lib/R/site-library’\n",
            "(as ‘lib’ is unspecified)\n",
            "\n",
            "Installing package into ‘/usr/local/lib/R/site-library’\n",
            "(as ‘lib’ is unspecified)\n",
            "\n"
          ]
        }
      ],
      "source": [
        "install.packages(\"readr\")\n",
        "install.packages(\"ggplot2\")\n",
        "install.packages(\"corrplot\")\n",
        "install.packages(\"dplyr\")\n",
        "install.packages(\"tidyr\")\n",
        "install.packages(\"purrr\")\n",
        "install.packages(\"combinat\")\n"
      ]
    },
    {
      "cell_type": "code",
      "source": [
        "library(readr)\n",
        "library(ggplot2)\n",
        "library(corrplot)\n",
        "library(dplyr)\n",
        "library(tidyr)\n",
        "library(purrr)\n",
        "library(combinat)"
      ],
      "metadata": {
        "id": "Q_KmDCJoNm31",
        "colab": {
          "base_uri": "https://localhost:8080/"
        },
        "outputId": "47956f69-5f8e-4a01-80c2-cf00852f01f7"
      },
      "execution_count": null,
      "outputs": [
        {
          "output_type": "stream",
          "name": "stderr",
          "text": [
            "corrplot 0.94 loaded\n",
            "\n",
            "\n",
            "Attaching package: ‘dplyr’\n",
            "\n",
            "\n",
            "The following objects are masked from ‘package:stats’:\n",
            "\n",
            "    filter, lag\n",
            "\n",
            "\n",
            "The following objects are masked from ‘package:base’:\n",
            "\n",
            "    intersect, setdiff, setequal, union\n",
            "\n",
            "\n",
            "\n",
            "Attaching package: ‘combinat’\n",
            "\n",
            "\n",
            "The following object is masked from ‘package:utils’:\n",
            "\n",
            "    combn\n",
            "\n",
            "\n"
          ]
        }
      ]
    },
    {
      "cell_type": "code",
      "source": [
        "# Importando bibliotecas\n",
        "library(readr)\n",
        "\n",
        "# Carregando os dataframes a partir do diretório de arquivos do Colab\n",
        "df_produtos <- read_csv2(\"/content/sku_dataset.csv\")\n",
        "df_vendas <- read_csv(\"/content/transaction_fact_v6_2024.csv\")\n",
        "\n",
        "# Visualizando os dataframes\n",
        "head(df_produtos)\n",
        "head(df_vendas)\n"
      ],
      "metadata": {
        "id": "YnBVSxMENqiP",
        "colab": {
          "base_uri": "https://localhost:8080/",
          "height": 989
        },
        "outputId": "6212b5b9-9d28-4d6d-def9-333ae948b364"
      },
      "execution_count": null,
      "outputs": [
        {
          "output_type": "stream",
          "name": "stderr",
          "text": [
            "\u001b[36mℹ\u001b[39m Using \u001b[34m\u001b[34m\"','\"\u001b[34m\u001b[39m as decimal and \u001b[34m\u001b[34m\"'.'\"\u001b[34m\u001b[39m as grouping mark. Use `read_delim()` for more control.\n",
            "\n",
            "\u001b[1mRows: \u001b[22m\u001b[34m563\u001b[39m \u001b[1mColumns: \u001b[22m\u001b[34m9\u001b[39m\n",
            "\u001b[36m──\u001b[39m \u001b[1mColumn specification\u001b[22m \u001b[36m────────────────────────────────────────────────────────\u001b[39m\n",
            "\u001b[1mDelimiter:\u001b[22m \";\"\n",
            "\u001b[31mchr\u001b[39m (8): nome_abrev, nome_completo, descricao, categoria, sub_categoria, mar...\n",
            "\u001b[32mdbl\u001b[39m (1): cod_prod\n",
            "\n",
            "\u001b[36mℹ\u001b[39m Use `spec()` to retrieve the full column specification for this data.\n",
            "\u001b[36mℹ\u001b[39m Specify the column types or set `show_col_types = FALSE` to quiet this message.\n",
            "\u001b[1mRows: \u001b[22m\u001b[34m1050605\u001b[39m \u001b[1mColumns: \u001b[22m\u001b[34m7\u001b[39m\n",
            "\u001b[36m──\u001b[39m \u001b[1mColumn specification\u001b[22m \u001b[36m────────────────────────────────────────────────────────\u001b[39m\n",
            "\u001b[1mDelimiter:\u001b[22m \",\"\n",
            "\u001b[31mchr\u001b[39m  (2): cod_loja, cod_transacao\n",
            "\u001b[32mdbl\u001b[39m  (4): cod_vendedor, quantidade, cod_prod, preco\n",
            "\u001b[34mdate\u001b[39m (1): data\n",
            "\n",
            "\u001b[36mℹ\u001b[39m Use `spec()` to retrieve the full column specification for this data.\n",
            "\u001b[36mℹ\u001b[39m Specify the column types or set `show_col_types = FALSE` to quiet this message.\n"
          ]
        },
        {
          "output_type": "display_data",
          "data": {
            "text/html": [
              "<table class=\"dataframe\">\n",
              "<caption>A tibble: 6 × 9</caption>\n",
              "<thead>\n",
              "\t<tr><th scope=col>cod_prod</th><th scope=col>nome_abrev</th><th scope=col>nome_completo</th><th scope=col>descricao</th><th scope=col>categoria</th><th scope=col>sub_categoria</th><th scope=col>marca</th><th scope=col>conteudo_valor</th><th scope=col>conteudo_medida</th></tr>\n",
              "\t<tr><th scope=col>&lt;dbl&gt;</th><th scope=col>&lt;chr&gt;</th><th scope=col>&lt;chr&gt;</th><th scope=col>&lt;chr&gt;</th><th scope=col>&lt;chr&gt;</th><th scope=col>&lt;chr&gt;</th><th scope=col>&lt;chr&gt;</th><th scope=col>&lt;chr&gt;</th><th scope=col>&lt;chr&gt;</th></tr>\n",
              "</thead>\n",
              "<tbody>\n",
              "\t<tr><td>603078352615</td><td><span style=white-space:pre-wrap>Acne Solutions Cleansing Bar   </span></td><td><span style=white-space:pre-wrap>Acne Solutions Cleansing Bar for Face &amp; Body      </span></td><td><span style=white-space:pre-wrap>Sabonete líquido Clinique Acne Solutions Cleansing Bar for Face &amp; Body  para Corpo           </span></td><td>Corpo</td><td>Sabonete líquido</td><td><span style=white-space:pre-wrap>Clinique      </span></td><td>156.0</td><td>ml</td></tr>\n",
              "\t<tr><td>131384024501</td><td>Pep Start Daily UV             </td><td>Pep Start Daily UV Protector Broad Spectrum SPF 50</td><td>Protetor solar Clinique Pep Start Daily UV Protector Broad Spectrum SPF 50  para Corpo       </td><td>Corpo</td><td>Protetor solar  </td><td>Clinique      </td><td>30.0 </td><td>ml</td></tr>\n",
              "\t<tr><td> 85873708529</td><td>Deep Comfort Body Wash         </td><td>Deep Comfort Body Wash                            </td><td>Sabonete líquido Clinique Deep Comfort Body Wash  para Corpo                                 </td><td>Corpo</td><td>Sabonete líquido</td><td>Clinique      </td><td>204.0</td><td>ml</td></tr>\n",
              "\t<tr><td>579926605113</td><td>Lipikar Wash Gentle Foaming    </td><td>Lipikar Wash AP+ Gentle Foaming Moisturizing Wash </td><td>Sabonete líquido La Roche-Posay Lipikar Wash AP+ Gentle Foaming Moisturizing Wash  para Corpo</td><td>Corpo</td><td>Sabonete líquido</td><td>La Roche-Posay</td><td>405.0</td><td>ml</td></tr>\n",
              "\t<tr><td>397769055946</td><td>Anthelios AOX Daily Antioxidant</td><td>Anthelios AOX Daily Antioxidant Face Serum SPF 50 </td><td>Protetor solar La Roche-Posay Anthelios AOX Daily Antioxidant Face Serum SPF 50  para Corpo  </td><td>Corpo</td><td>Protetor solar  </td><td>La Roche-Posay</td><td>30.0 </td><td>ml</td></tr>\n",
              "\t<tr><td>981647487600</td><td><span style=white-space:pre-wrap>Basil White Tea Body           </span></td><td><span style=white-space:pre-wrap>Basil &amp; White Tea Body Wash                       </span></td><td><span style=white-space:pre-wrap>Sabonete líquido Nivea Basil &amp; White Tea Body Wash  para Corpo                               </span></td><td>Corpo</td><td>Sabonete líquido</td><td><span style=white-space:pre-wrap>Nivea         </span></td><td>600.0</td><td>ml</td></tr>\n",
              "</tbody>\n",
              "</table>\n"
            ],
            "text/markdown": "\nA tibble: 6 × 9\n\n| cod_prod &lt;dbl&gt; | nome_abrev &lt;chr&gt; | nome_completo &lt;chr&gt; | descricao &lt;chr&gt; | categoria &lt;chr&gt; | sub_categoria &lt;chr&gt; | marca &lt;chr&gt; | conteudo_valor &lt;chr&gt; | conteudo_medida &lt;chr&gt; |\n|---|---|---|---|---|---|---|---|---|\n| 603078352615 | Acne Solutions Cleansing Bar    | Acne Solutions Cleansing Bar for Face &amp; Body       | Sabonete líquido Clinique Acne Solutions Cleansing Bar for Face &amp; Body  para Corpo            | Corpo | Sabonete líquido | Clinique       | 156.0 | ml |\n| 131384024501 | Pep Start Daily UV              | Pep Start Daily UV Protector Broad Spectrum SPF 50 | Protetor solar Clinique Pep Start Daily UV Protector Broad Spectrum SPF 50  para Corpo        | Corpo | Protetor solar   | Clinique       | 30.0  | ml |\n|  85873708529 | Deep Comfort Body Wash          | Deep Comfort Body Wash                             | Sabonete líquido Clinique Deep Comfort Body Wash  para Corpo                                  | Corpo | Sabonete líquido | Clinique       | 204.0 | ml |\n| 579926605113 | Lipikar Wash Gentle Foaming     | Lipikar Wash AP+ Gentle Foaming Moisturizing Wash  | Sabonete líquido La Roche-Posay Lipikar Wash AP+ Gentle Foaming Moisturizing Wash  para Corpo | Corpo | Sabonete líquido | La Roche-Posay | 405.0 | ml |\n| 397769055946 | Anthelios AOX Daily Antioxidant | Anthelios AOX Daily Antioxidant Face Serum SPF 50  | Protetor solar La Roche-Posay Anthelios AOX Daily Antioxidant Face Serum SPF 50  para Corpo   | Corpo | Protetor solar   | La Roche-Posay | 30.0  | ml |\n| 981647487600 | Basil White Tea Body            | Basil &amp; White Tea Body Wash                        | Sabonete líquido Nivea Basil &amp; White Tea Body Wash  para Corpo                                | Corpo | Sabonete líquido | Nivea          | 600.0 | ml |\n\n",
            "text/latex": "A tibble: 6 × 9\n\\begin{tabular}{lllllllll}\n cod\\_prod & nome\\_abrev & nome\\_completo & descricao & categoria & sub\\_categoria & marca & conteudo\\_valor & conteudo\\_medida\\\\\n <dbl> & <chr> & <chr> & <chr> & <chr> & <chr> & <chr> & <chr> & <chr>\\\\\n\\hline\n\t 603078352615 & Acne Solutions Cleansing Bar    & Acne Solutions Cleansing Bar for Face \\& Body       & Sabonete líquido Clinique Acne Solutions Cleansing Bar for Face \\& Body  para Corpo            & Corpo & Sabonete líquido & Clinique       & 156.0 & ml\\\\\n\t 131384024501 & Pep Start Daily UV              & Pep Start Daily UV Protector Broad Spectrum SPF 50 & Protetor solar Clinique Pep Start Daily UV Protector Broad Spectrum SPF 50  para Corpo        & Corpo & Protetor solar   & Clinique       & 30.0  & ml\\\\\n\t  85873708529 & Deep Comfort Body Wash          & Deep Comfort Body Wash                             & Sabonete líquido Clinique Deep Comfort Body Wash  para Corpo                                  & Corpo & Sabonete líquido & Clinique       & 204.0 & ml\\\\\n\t 579926605113 & Lipikar Wash Gentle Foaming     & Lipikar Wash AP+ Gentle Foaming Moisturizing Wash  & Sabonete líquido La Roche-Posay Lipikar Wash AP+ Gentle Foaming Moisturizing Wash  para Corpo & Corpo & Sabonete líquido & La Roche-Posay & 405.0 & ml\\\\\n\t 397769055946 & Anthelios AOX Daily Antioxidant & Anthelios AOX Daily Antioxidant Face Serum SPF 50  & Protetor solar La Roche-Posay Anthelios AOX Daily Antioxidant Face Serum SPF 50  para Corpo   & Corpo & Protetor solar   & La Roche-Posay & 30.0  & ml\\\\\n\t 981647487600 & Basil White Tea Body            & Basil \\& White Tea Body Wash                        & Sabonete líquido Nivea Basil \\& White Tea Body Wash  para Corpo                                & Corpo & Sabonete líquido & Nivea          & 600.0 & ml\\\\\n\\end{tabular}\n",
            "text/plain": [
              "  cod_prod     nome_abrev                     \n",
              "1 603078352615 Acne Solutions Cleansing Bar   \n",
              "2 131384024501 Pep Start Daily UV             \n",
              "3  85873708529 Deep Comfort Body Wash         \n",
              "4 579926605113 Lipikar Wash Gentle Foaming    \n",
              "5 397769055946 Anthelios AOX Daily Antioxidant\n",
              "6 981647487600 Basil White Tea Body           \n",
              "  nome_completo                                     \n",
              "1 Acne Solutions Cleansing Bar for Face & Body      \n",
              "2 Pep Start Daily UV Protector Broad Spectrum SPF 50\n",
              "3 Deep Comfort Body Wash                            \n",
              "4 Lipikar Wash AP+ Gentle Foaming Moisturizing Wash \n",
              "5 Anthelios AOX Daily Antioxidant Face Serum SPF 50 \n",
              "6 Basil & White Tea Body Wash                       \n",
              "  descricao                                                                                    \n",
              "1 Sabonete líquido Clinique Acne Solutions Cleansing Bar for Face & Body  para Corpo           \n",
              "2 Protetor solar Clinique Pep Start Daily UV Protector Broad Spectrum SPF 50  para Corpo       \n",
              "3 Sabonete líquido Clinique Deep Comfort Body Wash  para Corpo                                 \n",
              "4 Sabonete líquido La Roche-Posay Lipikar Wash AP+ Gentle Foaming Moisturizing Wash  para Corpo\n",
              "5 Protetor solar La Roche-Posay Anthelios AOX Daily Antioxidant Face Serum SPF 50  para Corpo  \n",
              "6 Sabonete líquido Nivea Basil & White Tea Body Wash  para Corpo                               \n",
              "  categoria sub_categoria    marca          conteudo_valor conteudo_medida\n",
              "1 Corpo     Sabonete líquido Clinique       156.0          ml             \n",
              "2 Corpo     Protetor solar   Clinique       30.0           ml             \n",
              "3 Corpo     Sabonete líquido Clinique       204.0          ml             \n",
              "4 Corpo     Sabonete líquido La Roche-Posay 405.0          ml             \n",
              "5 Corpo     Protetor solar   La Roche-Posay 30.0           ml             \n",
              "6 Corpo     Sabonete líquido Nivea          600.0          ml             "
            ]
          },
          "metadata": {}
        },
        {
          "output_type": "display_data",
          "data": {
            "text/html": [
              "<table class=\"dataframe\">\n",
              "<caption>A tibble: 6 × 7</caption>\n",
              "<thead>\n",
              "\t<tr><th scope=col>data</th><th scope=col>cod_vendedor</th><th scope=col>cod_loja</th><th scope=col>cod_transacao</th><th scope=col>quantidade</th><th scope=col>cod_prod</th><th scope=col>preco</th></tr>\n",
              "\t<tr><th scope=col>&lt;date&gt;</th><th scope=col>&lt;dbl&gt;</th><th scope=col>&lt;chr&gt;</th><th scope=col>&lt;chr&gt;</th><th scope=col>&lt;dbl&gt;</th><th scope=col>&lt;dbl&gt;</th><th scope=col>&lt;dbl&gt;</th></tr>\n",
              "</thead>\n",
              "<tbody>\n",
              "\t<tr><td>2024-05-30</td><td>882</td><td>RJ_37            </td><td>00021b2125</td><td>2</td><td>765532426307</td><td>49.70032</td></tr>\n",
              "\t<tr><td>2024-05-10</td><td>822</td><td>SC_83            </td><td>0002747ba6</td><td>2</td><td>213859277084</td><td>39.34177</td></tr>\n",
              "\t<tr><td>2024-05-06</td><td>121</td><td>RJ_16            </td><td>0002bbd5ed</td><td>1</td><td>  6587422396</td><td>51.78238</td></tr>\n",
              "\t<tr><td>2024-05-21</td><td>369</td><td>RJ_98            </td><td>000770f1f7</td><td>1</td><td>165912155337</td><td>26.92187</td></tr>\n",
              "\t<tr><td>2024-05-03</td><td>153</td><td>SP Capital Sul_74</td><td>0008f0a87a</td><td>2</td><td>633924646216</td><td>68.34570</td></tr>\n",
              "\t<tr><td>2024-05-23</td><td>423</td><td>RJ_23            </td><td>0009152855</td><td>2</td><td>371619718793</td><td>43.48519</td></tr>\n",
              "</tbody>\n",
              "</table>\n"
            ],
            "text/markdown": "\nA tibble: 6 × 7\n\n| data &lt;date&gt; | cod_vendedor &lt;dbl&gt; | cod_loja &lt;chr&gt; | cod_transacao &lt;chr&gt; | quantidade &lt;dbl&gt; | cod_prod &lt;dbl&gt; | preco &lt;dbl&gt; |\n|---|---|---|---|---|---|---|\n| 2024-05-30 | 882 | RJ_37             | 00021b2125 | 2 | 765532426307 | 49.70032 |\n| 2024-05-10 | 822 | SC_83             | 0002747ba6 | 2 | 213859277084 | 39.34177 |\n| 2024-05-06 | 121 | RJ_16             | 0002bbd5ed | 1 |   6587422396 | 51.78238 |\n| 2024-05-21 | 369 | RJ_98             | 000770f1f7 | 1 | 165912155337 | 26.92187 |\n| 2024-05-03 | 153 | SP Capital Sul_74 | 0008f0a87a | 2 | 633924646216 | 68.34570 |\n| 2024-05-23 | 423 | RJ_23             | 0009152855 | 2 | 371619718793 | 43.48519 |\n\n",
            "text/latex": "A tibble: 6 × 7\n\\begin{tabular}{lllllll}\n data & cod\\_vendedor & cod\\_loja & cod\\_transacao & quantidade & cod\\_prod & preco\\\\\n <date> & <dbl> & <chr> & <chr> & <dbl> & <dbl> & <dbl>\\\\\n\\hline\n\t 2024-05-30 & 882 & RJ\\_37             & 00021b2125 & 2 & 765532426307 & 49.70032\\\\\n\t 2024-05-10 & 822 & SC\\_83             & 0002747ba6 & 2 & 213859277084 & 39.34177\\\\\n\t 2024-05-06 & 121 & RJ\\_16             & 0002bbd5ed & 1 &   6587422396 & 51.78238\\\\\n\t 2024-05-21 & 369 & RJ\\_98             & 000770f1f7 & 1 & 165912155337 & 26.92187\\\\\n\t 2024-05-03 & 153 & SP Capital Sul\\_74 & 0008f0a87a & 2 & 633924646216 & 68.34570\\\\\n\t 2024-05-23 & 423 & RJ\\_23             & 0009152855 & 2 & 371619718793 & 43.48519\\\\\n\\end{tabular}\n",
            "text/plain": [
              "  data       cod_vendedor cod_loja          cod_transacao quantidade\n",
              "1 2024-05-30 882          RJ_37             00021b2125    2         \n",
              "2 2024-05-10 822          SC_83             0002747ba6    2         \n",
              "3 2024-05-06 121          RJ_16             0002bbd5ed    1         \n",
              "4 2024-05-21 369          RJ_98             000770f1f7    1         \n",
              "5 2024-05-03 153          SP Capital Sul_74 0008f0a87a    2         \n",
              "6 2024-05-23 423          RJ_23             0009152855    2         \n",
              "  cod_prod     preco   \n",
              "1 765532426307 49.70032\n",
              "2 213859277084 39.34177\n",
              "3   6587422396 51.78238\n",
              "4 165912155337 26.92187\n",
              "5 633924646216 68.34570\n",
              "6 371619718793 43.48519"
            ]
          },
          "metadata": {}
        }
      ]
    },
    {
      "cell_type": "code",
      "source": [
        "head(df_produtos)\n",
        "head(df_vendas)"
      ],
      "metadata": {
        "id": "-pW9VcvgN8Sd",
        "colab": {
          "base_uri": "https://localhost:8080/",
          "height": 660
        },
        "outputId": "d2867ae4-a473-41e6-f2be-113445dd5118"
      },
      "execution_count": null,
      "outputs": [
        {
          "output_type": "display_data",
          "data": {
            "text/html": [
              "<table class=\"dataframe\">\n",
              "<caption>A tibble: 6 × 9</caption>\n",
              "<thead>\n",
              "\t<tr><th scope=col>cod_prod</th><th scope=col>nome_abrev</th><th scope=col>nome_completo</th><th scope=col>descricao</th><th scope=col>categoria</th><th scope=col>sub_categoria</th><th scope=col>marca</th><th scope=col>conteudo_valor</th><th scope=col>conteudo_medida</th></tr>\n",
              "\t<tr><th scope=col>&lt;dbl&gt;</th><th scope=col>&lt;chr&gt;</th><th scope=col>&lt;chr&gt;</th><th scope=col>&lt;chr&gt;</th><th scope=col>&lt;chr&gt;</th><th scope=col>&lt;chr&gt;</th><th scope=col>&lt;chr&gt;</th><th scope=col>&lt;chr&gt;</th><th scope=col>&lt;chr&gt;</th></tr>\n",
              "</thead>\n",
              "<tbody>\n",
              "\t<tr><td>603078352615</td><td><span style=white-space:pre-wrap>Acne Solutions Cleansing Bar   </span></td><td><span style=white-space:pre-wrap>Acne Solutions Cleansing Bar for Face &amp; Body      </span></td><td><span style=white-space:pre-wrap>Sabonete líquido Clinique Acne Solutions Cleansing Bar for Face &amp; Body  para Corpo           </span></td><td>Corpo</td><td>Sabonete líquido</td><td><span style=white-space:pre-wrap>Clinique      </span></td><td>156.0</td><td>ml</td></tr>\n",
              "\t<tr><td>131384024501</td><td>Pep Start Daily UV             </td><td>Pep Start Daily UV Protector Broad Spectrum SPF 50</td><td>Protetor solar Clinique Pep Start Daily UV Protector Broad Spectrum SPF 50  para Corpo       </td><td>Corpo</td><td>Protetor solar  </td><td>Clinique      </td><td>30.0 </td><td>ml</td></tr>\n",
              "\t<tr><td> 85873708529</td><td>Deep Comfort Body Wash         </td><td>Deep Comfort Body Wash                            </td><td>Sabonete líquido Clinique Deep Comfort Body Wash  para Corpo                                 </td><td>Corpo</td><td>Sabonete líquido</td><td>Clinique      </td><td>204.0</td><td>ml</td></tr>\n",
              "\t<tr><td>579926605113</td><td>Lipikar Wash Gentle Foaming    </td><td>Lipikar Wash AP+ Gentle Foaming Moisturizing Wash </td><td>Sabonete líquido La Roche-Posay Lipikar Wash AP+ Gentle Foaming Moisturizing Wash  para Corpo</td><td>Corpo</td><td>Sabonete líquido</td><td>La Roche-Posay</td><td>405.0</td><td>ml</td></tr>\n",
              "\t<tr><td>397769055946</td><td>Anthelios AOX Daily Antioxidant</td><td>Anthelios AOX Daily Antioxidant Face Serum SPF 50 </td><td>Protetor solar La Roche-Posay Anthelios AOX Daily Antioxidant Face Serum SPF 50  para Corpo  </td><td>Corpo</td><td>Protetor solar  </td><td>La Roche-Posay</td><td>30.0 </td><td>ml</td></tr>\n",
              "\t<tr><td>981647487600</td><td><span style=white-space:pre-wrap>Basil White Tea Body           </span></td><td><span style=white-space:pre-wrap>Basil &amp; White Tea Body Wash                       </span></td><td><span style=white-space:pre-wrap>Sabonete líquido Nivea Basil &amp; White Tea Body Wash  para Corpo                               </span></td><td>Corpo</td><td>Sabonete líquido</td><td><span style=white-space:pre-wrap>Nivea         </span></td><td>600.0</td><td>ml</td></tr>\n",
              "</tbody>\n",
              "</table>\n"
            ],
            "text/markdown": "\nA tibble: 6 × 9\n\n| cod_prod &lt;dbl&gt; | nome_abrev &lt;chr&gt; | nome_completo &lt;chr&gt; | descricao &lt;chr&gt; | categoria &lt;chr&gt; | sub_categoria &lt;chr&gt; | marca &lt;chr&gt; | conteudo_valor &lt;chr&gt; | conteudo_medida &lt;chr&gt; |\n|---|---|---|---|---|---|---|---|---|\n| 603078352615 | Acne Solutions Cleansing Bar    | Acne Solutions Cleansing Bar for Face &amp; Body       | Sabonete líquido Clinique Acne Solutions Cleansing Bar for Face &amp; Body  para Corpo            | Corpo | Sabonete líquido | Clinique       | 156.0 | ml |\n| 131384024501 | Pep Start Daily UV              | Pep Start Daily UV Protector Broad Spectrum SPF 50 | Protetor solar Clinique Pep Start Daily UV Protector Broad Spectrum SPF 50  para Corpo        | Corpo | Protetor solar   | Clinique       | 30.0  | ml |\n|  85873708529 | Deep Comfort Body Wash          | Deep Comfort Body Wash                             | Sabonete líquido Clinique Deep Comfort Body Wash  para Corpo                                  | Corpo | Sabonete líquido | Clinique       | 204.0 | ml |\n| 579926605113 | Lipikar Wash Gentle Foaming     | Lipikar Wash AP+ Gentle Foaming Moisturizing Wash  | Sabonete líquido La Roche-Posay Lipikar Wash AP+ Gentle Foaming Moisturizing Wash  para Corpo | Corpo | Sabonete líquido | La Roche-Posay | 405.0 | ml |\n| 397769055946 | Anthelios AOX Daily Antioxidant | Anthelios AOX Daily Antioxidant Face Serum SPF 50  | Protetor solar La Roche-Posay Anthelios AOX Daily Antioxidant Face Serum SPF 50  para Corpo   | Corpo | Protetor solar   | La Roche-Posay | 30.0  | ml |\n| 981647487600 | Basil White Tea Body            | Basil &amp; White Tea Body Wash                        | Sabonete líquido Nivea Basil &amp; White Tea Body Wash  para Corpo                                | Corpo | Sabonete líquido | Nivea          | 600.0 | ml |\n\n",
            "text/latex": "A tibble: 6 × 9\n\\begin{tabular}{lllllllll}\n cod\\_prod & nome\\_abrev & nome\\_completo & descricao & categoria & sub\\_categoria & marca & conteudo\\_valor & conteudo\\_medida\\\\\n <dbl> & <chr> & <chr> & <chr> & <chr> & <chr> & <chr> & <chr> & <chr>\\\\\n\\hline\n\t 603078352615 & Acne Solutions Cleansing Bar    & Acne Solutions Cleansing Bar for Face \\& Body       & Sabonete líquido Clinique Acne Solutions Cleansing Bar for Face \\& Body  para Corpo            & Corpo & Sabonete líquido & Clinique       & 156.0 & ml\\\\\n\t 131384024501 & Pep Start Daily UV              & Pep Start Daily UV Protector Broad Spectrum SPF 50 & Protetor solar Clinique Pep Start Daily UV Protector Broad Spectrum SPF 50  para Corpo        & Corpo & Protetor solar   & Clinique       & 30.0  & ml\\\\\n\t  85873708529 & Deep Comfort Body Wash          & Deep Comfort Body Wash                             & Sabonete líquido Clinique Deep Comfort Body Wash  para Corpo                                  & Corpo & Sabonete líquido & Clinique       & 204.0 & ml\\\\\n\t 579926605113 & Lipikar Wash Gentle Foaming     & Lipikar Wash AP+ Gentle Foaming Moisturizing Wash  & Sabonete líquido La Roche-Posay Lipikar Wash AP+ Gentle Foaming Moisturizing Wash  para Corpo & Corpo & Sabonete líquido & La Roche-Posay & 405.0 & ml\\\\\n\t 397769055946 & Anthelios AOX Daily Antioxidant & Anthelios AOX Daily Antioxidant Face Serum SPF 50  & Protetor solar La Roche-Posay Anthelios AOX Daily Antioxidant Face Serum SPF 50  para Corpo   & Corpo & Protetor solar   & La Roche-Posay & 30.0  & ml\\\\\n\t 981647487600 & Basil White Tea Body            & Basil \\& White Tea Body Wash                        & Sabonete líquido Nivea Basil \\& White Tea Body Wash  para Corpo                                & Corpo & Sabonete líquido & Nivea          & 600.0 & ml\\\\\n\\end{tabular}\n",
            "text/plain": [
              "  cod_prod     nome_abrev                     \n",
              "1 603078352615 Acne Solutions Cleansing Bar   \n",
              "2 131384024501 Pep Start Daily UV             \n",
              "3  85873708529 Deep Comfort Body Wash         \n",
              "4 579926605113 Lipikar Wash Gentle Foaming    \n",
              "5 397769055946 Anthelios AOX Daily Antioxidant\n",
              "6 981647487600 Basil White Tea Body           \n",
              "  nome_completo                                     \n",
              "1 Acne Solutions Cleansing Bar for Face & Body      \n",
              "2 Pep Start Daily UV Protector Broad Spectrum SPF 50\n",
              "3 Deep Comfort Body Wash                            \n",
              "4 Lipikar Wash AP+ Gentle Foaming Moisturizing Wash \n",
              "5 Anthelios AOX Daily Antioxidant Face Serum SPF 50 \n",
              "6 Basil & White Tea Body Wash                       \n",
              "  descricao                                                                                    \n",
              "1 Sabonete líquido Clinique Acne Solutions Cleansing Bar for Face & Body  para Corpo           \n",
              "2 Protetor solar Clinique Pep Start Daily UV Protector Broad Spectrum SPF 50  para Corpo       \n",
              "3 Sabonete líquido Clinique Deep Comfort Body Wash  para Corpo                                 \n",
              "4 Sabonete líquido La Roche-Posay Lipikar Wash AP+ Gentle Foaming Moisturizing Wash  para Corpo\n",
              "5 Protetor solar La Roche-Posay Anthelios AOX Daily Antioxidant Face Serum SPF 50  para Corpo  \n",
              "6 Sabonete líquido Nivea Basil & White Tea Body Wash  para Corpo                               \n",
              "  categoria sub_categoria    marca          conteudo_valor conteudo_medida\n",
              "1 Corpo     Sabonete líquido Clinique       156.0          ml             \n",
              "2 Corpo     Protetor solar   Clinique       30.0           ml             \n",
              "3 Corpo     Sabonete líquido Clinique       204.0          ml             \n",
              "4 Corpo     Sabonete líquido La Roche-Posay 405.0          ml             \n",
              "5 Corpo     Protetor solar   La Roche-Posay 30.0           ml             \n",
              "6 Corpo     Sabonete líquido Nivea          600.0          ml             "
            ]
          },
          "metadata": {}
        },
        {
          "output_type": "display_data",
          "data": {
            "text/html": [
              "<table class=\"dataframe\">\n",
              "<caption>A tibble: 6 × 7</caption>\n",
              "<thead>\n",
              "\t<tr><th scope=col>data</th><th scope=col>cod_vendedor</th><th scope=col>cod_loja</th><th scope=col>cod_transacao</th><th scope=col>quantidade</th><th scope=col>cod_prod</th><th scope=col>preco</th></tr>\n",
              "\t<tr><th scope=col>&lt;date&gt;</th><th scope=col>&lt;dbl&gt;</th><th scope=col>&lt;chr&gt;</th><th scope=col>&lt;chr&gt;</th><th scope=col>&lt;dbl&gt;</th><th scope=col>&lt;dbl&gt;</th><th scope=col>&lt;dbl&gt;</th></tr>\n",
              "</thead>\n",
              "<tbody>\n",
              "\t<tr><td>2024-05-30</td><td>882</td><td>RJ_37            </td><td>00021b2125</td><td>2</td><td>765532426307</td><td>49.70032</td></tr>\n",
              "\t<tr><td>2024-05-10</td><td>822</td><td>SC_83            </td><td>0002747ba6</td><td>2</td><td>213859277084</td><td>39.34177</td></tr>\n",
              "\t<tr><td>2024-05-06</td><td>121</td><td>RJ_16            </td><td>0002bbd5ed</td><td>1</td><td>  6587422396</td><td>51.78238</td></tr>\n",
              "\t<tr><td>2024-05-21</td><td>369</td><td>RJ_98            </td><td>000770f1f7</td><td>1</td><td>165912155337</td><td>26.92187</td></tr>\n",
              "\t<tr><td>2024-05-03</td><td>153</td><td>SP Capital Sul_74</td><td>0008f0a87a</td><td>2</td><td>633924646216</td><td>68.34570</td></tr>\n",
              "\t<tr><td>2024-05-23</td><td>423</td><td>RJ_23            </td><td>0009152855</td><td>2</td><td>371619718793</td><td>43.48519</td></tr>\n",
              "</tbody>\n",
              "</table>\n"
            ],
            "text/markdown": "\nA tibble: 6 × 7\n\n| data &lt;date&gt; | cod_vendedor &lt;dbl&gt; | cod_loja &lt;chr&gt; | cod_transacao &lt;chr&gt; | quantidade &lt;dbl&gt; | cod_prod &lt;dbl&gt; | preco &lt;dbl&gt; |\n|---|---|---|---|---|---|---|\n| 2024-05-30 | 882 | RJ_37             | 00021b2125 | 2 | 765532426307 | 49.70032 |\n| 2024-05-10 | 822 | SC_83             | 0002747ba6 | 2 | 213859277084 | 39.34177 |\n| 2024-05-06 | 121 | RJ_16             | 0002bbd5ed | 1 |   6587422396 | 51.78238 |\n| 2024-05-21 | 369 | RJ_98             | 000770f1f7 | 1 | 165912155337 | 26.92187 |\n| 2024-05-03 | 153 | SP Capital Sul_74 | 0008f0a87a | 2 | 633924646216 | 68.34570 |\n| 2024-05-23 | 423 | RJ_23             | 0009152855 | 2 | 371619718793 | 43.48519 |\n\n",
            "text/latex": "A tibble: 6 × 7\n\\begin{tabular}{lllllll}\n data & cod\\_vendedor & cod\\_loja & cod\\_transacao & quantidade & cod\\_prod & preco\\\\\n <date> & <dbl> & <chr> & <chr> & <dbl> & <dbl> & <dbl>\\\\\n\\hline\n\t 2024-05-30 & 882 & RJ\\_37             & 00021b2125 & 2 & 765532426307 & 49.70032\\\\\n\t 2024-05-10 & 822 & SC\\_83             & 0002747ba6 & 2 & 213859277084 & 39.34177\\\\\n\t 2024-05-06 & 121 & RJ\\_16             & 0002bbd5ed & 1 &   6587422396 & 51.78238\\\\\n\t 2024-05-21 & 369 & RJ\\_98             & 000770f1f7 & 1 & 165912155337 & 26.92187\\\\\n\t 2024-05-03 & 153 & SP Capital Sul\\_74 & 0008f0a87a & 2 & 633924646216 & 68.34570\\\\\n\t 2024-05-23 & 423 & RJ\\_23             & 0009152855 & 2 & 371619718793 & 43.48519\\\\\n\\end{tabular}\n",
            "text/plain": [
              "  data       cod_vendedor cod_loja          cod_transacao quantidade\n",
              "1 2024-05-30 882          RJ_37             00021b2125    2         \n",
              "2 2024-05-10 822          SC_83             0002747ba6    2         \n",
              "3 2024-05-06 121          RJ_16             0002bbd5ed    1         \n",
              "4 2024-05-21 369          RJ_98             000770f1f7    1         \n",
              "5 2024-05-03 153          SP Capital Sul_74 0008f0a87a    2         \n",
              "6 2024-05-23 423          RJ_23             0009152855    2         \n",
              "  cod_prod     preco   \n",
              "1 765532426307 49.70032\n",
              "2 213859277084 39.34177\n",
              "3   6587422396 51.78238\n",
              "4 165912155337 26.92187\n",
              "5 633924646216 68.34570\n",
              "6 371619718793 43.48519"
            ]
          },
          "metadata": {}
        }
      ]
    },
    {
      "cell_type": "code",
      "source": [
        "str(df_produtos)\n",
        "str(df_vendas)"
      ],
      "metadata": {
        "id": "jhCXuD35OEhp",
        "colab": {
          "base_uri": "https://localhost:8080/"
        },
        "outputId": "559f2d16-f970-4ef0-ca1f-f19556575349"
      },
      "execution_count": null,
      "outputs": [
        {
          "output_type": "stream",
          "name": "stdout",
          "text": [
            "spc_tbl_ [563 × 9] (S3: spec_tbl_df/tbl_df/tbl/data.frame)\n",
            " $ cod_prod       : num [1:563] 6.03e+11 1.31e+11 8.59e+10 5.80e+11 3.98e+11 ...\n",
            " $ nome_abrev     : chr [1:563] \"Acne Solutions Cleansing Bar\" \"Pep Start Daily UV\" \"Deep Comfort Body Wash\" \"Lipikar Wash Gentle Foaming\" ...\n",
            " $ nome_completo  : chr [1:563] \"Acne Solutions Cleansing Bar for Face & Body\" \"Pep Start Daily UV Protector Broad Spectrum SPF 50\" \"Deep Comfort Body Wash\" \"Lipikar Wash AP+ Gentle Foaming Moisturizing Wash\" ...\n",
            " $ descricao      : chr [1:563] \"Sabonete líquido Clinique Acne Solutions Cleansing Bar for Face & Body  para Corpo\" \"Protetor solar Clinique Pep Start Daily UV Protector Broad Spectrum SPF 50  para Corpo\" \"Sabonete líquido Clinique Deep Comfort Body Wash  para Corpo\" \"Sabonete líquido La Roche-Posay Lipikar Wash AP+ Gentle Foaming Moisturizing Wash  para Corpo\" ...\n",
            " $ categoria      : chr [1:563] \"Corpo\" \"Corpo\" \"Corpo\" \"Corpo\" ...\n",
            " $ sub_categoria  : chr [1:563] \"Sabonete líquido\" \"Protetor solar\" \"Sabonete líquido\" \"Sabonete líquido\" ...\n",
            " $ marca          : chr [1:563] \"Clinique\" \"Clinique\" \"Clinique\" \"La Roche-Posay\" ...\n",
            " $ conteudo_valor : chr [1:563] \"156.0\" \"30.0\" \"204.0\" \"405.0\" ...\n",
            " $ conteudo_medida: chr [1:563] \"ml\" \"ml\" \"ml\" \"ml\" ...\n",
            " - attr(*, \"spec\")=\n",
            "  .. cols(\n",
            "  ..   cod_prod = \u001b[32mcol_double()\u001b[39m,\n",
            "  ..   nome_abrev = \u001b[31mcol_character()\u001b[39m,\n",
            "  ..   nome_completo = \u001b[31mcol_character()\u001b[39m,\n",
            "  ..   descricao = \u001b[31mcol_character()\u001b[39m,\n",
            "  ..   categoria = \u001b[31mcol_character()\u001b[39m,\n",
            "  ..   sub_categoria = \u001b[31mcol_character()\u001b[39m,\n",
            "  ..   marca = \u001b[31mcol_character()\u001b[39m,\n",
            "  ..   conteudo_valor = \u001b[31mcol_character()\u001b[39m,\n",
            "  ..   conteudo_medida = \u001b[31mcol_character()\u001b[39m\n",
            "  .. )\n",
            " - attr(*, \"problems\")=<externalptr> \n",
            "spc_tbl_ [1,050,605 × 7] (S3: spec_tbl_df/tbl_df/tbl/data.frame)\n",
            " $ data         : Date[1:1050605], format: \"2024-05-30\" \"2024-05-10\" ...\n",
            " $ cod_vendedor : num [1:1050605] 882 822 121 369 153 423 617 540 714 852 ...\n",
            " $ cod_loja     : chr [1:1050605] \"RJ_37\" \"SC_83\" \"RJ_16\" \"RJ_98\" ...\n",
            " $ cod_transacao: chr [1:1050605] \"00021b2125\" \"0002747ba6\" \"0002bbd5ed\" \"000770f1f7\" ...\n",
            " $ quantidade   : num [1:1050605] 2 2 1 1 2 2 2 1 1 1 ...\n",
            " $ cod_prod     : num [1:1050605] 7.66e+11 2.14e+11 6.59e+09 1.66e+11 6.34e+11 ...\n",
            " $ preco        : num [1:1050605] 49.7 39.3 51.8 26.9 68.3 ...\n",
            " - attr(*, \"spec\")=\n",
            "  .. cols(\n",
            "  ..   data = \u001b[34mcol_date(format = \"\")\u001b[39m,\n",
            "  ..   cod_vendedor = \u001b[32mcol_double()\u001b[39m,\n",
            "  ..   cod_loja = \u001b[31mcol_character()\u001b[39m,\n",
            "  ..   cod_transacao = \u001b[31mcol_character()\u001b[39m,\n",
            "  ..   quantidade = \u001b[32mcol_double()\u001b[39m,\n",
            "  ..   cod_prod = \u001b[32mcol_double()\u001b[39m,\n",
            "  ..   preco = \u001b[32mcol_double()\u001b[39m\n",
            "  .. )\n",
            " - attr(*, \"problems\")=<externalptr> \n"
          ]
        }
      ]
    },
    {
      "cell_type": "code",
      "source": [
        "summary(df_produtos)\n",
        "summary(df_vendas)\n"
      ],
      "metadata": {
        "id": "1OkaOWV5OFuc",
        "colab": {
          "base_uri": "https://localhost:8080/",
          "height": 625
        },
        "outputId": "37e0c1a5-7bf6-4a8f-89ea-462fa87e0b2e"
      },
      "execution_count": null,
      "outputs": [
        {
          "output_type": "display_data",
          "data": {
            "text/plain": [
              "    cod_prod          nome_abrev        nome_completo       descricao        \n",
              " Min.   :6.587e+09   Length:563         Length:563         Length:563        \n",
              " 1st Qu.:2.506e+11   Class :character   Class :character   Class :character  \n",
              " Median :4.800e+11   Mode  :character   Mode  :character   Mode  :character  \n",
              " Mean   :5.024e+11                                                           \n",
              " 3rd Qu.:7.696e+11                                                           \n",
              " Max.   :9.970e+11                                                           \n",
              "  categoria         sub_categoria         marca           conteudo_valor    \n",
              " Length:563         Length:563         Length:563         Length:563        \n",
              " Class :character   Class :character   Class :character   Class :character  \n",
              " Mode  :character   Mode  :character   Mode  :character   Mode  :character  \n",
              "                                                                            \n",
              "                                                                            \n",
              "                                                                            \n",
              " conteudo_medida   \n",
              " Length:563        \n",
              " Class :character  \n",
              " Mode  :character  \n",
              "                   \n",
              "                   \n",
              "                   "
            ]
          },
          "metadata": {}
        },
        {
          "output_type": "display_data",
          "data": {
            "text/plain": [
              "      data             cod_vendedor      cod_loja         cod_transacao     \n",
              " Min.   :2024-01-01   Min.   :   2.0   Length:1050605     Length:1050605    \n",
              " 1st Qu.:2024-02-10   1st Qu.: 251.0   Class :character   Class :character  \n",
              " Median :2024-03-23   Median : 486.0   Mode  :character   Mode  :character  \n",
              " Mean   :2024-03-22   Mean   : 497.1                                        \n",
              " 3rd Qu.:2024-05-03   3rd Qu.: 751.0                                        \n",
              " Max.   :2024-06-13   Max.   :1000.0                                        \n",
              "   quantidade     cod_prod             preco        \n",
              " Min.   :1.0   Min.   :6.587e+09   Min.   :  12.42  \n",
              " 1st Qu.:1.0   1st Qu.:2.607e+11   1st Qu.:  52.82  \n",
              " Median :2.0   Median :5.556e+11   Median :  93.21  \n",
              " Mean   :1.5   Mean   :5.288e+11   Mean   : 160.75  \n",
              " 3rd Qu.:2.0   3rd Qu.:7.892e+11   3rd Qu.: 169.86  \n",
              " Max.   :2.0   Max.   :9.885e+11   Max.   :1141.49  "
            ]
          },
          "metadata": {}
        }
      ]
    },
    {
      "cell_type": "code",
      "source": [
        "head(df_produtos)"
      ],
      "metadata": {
        "id": "Vp5HDKbROILP",
        "colab": {
          "base_uri": "https://localhost:8080/",
          "height": 390
        },
        "outputId": "29456a85-81cb-4a14-8e09-1fc35bc8e582"
      },
      "execution_count": null,
      "outputs": [
        {
          "output_type": "display_data",
          "data": {
            "text/html": [
              "<table class=\"dataframe\">\n",
              "<caption>A tibble: 6 × 9</caption>\n",
              "<thead>\n",
              "\t<tr><th scope=col>cod_prod</th><th scope=col>nome_abrev</th><th scope=col>nome_completo</th><th scope=col>descricao</th><th scope=col>categoria</th><th scope=col>sub_categoria</th><th scope=col>marca</th><th scope=col>conteudo_valor</th><th scope=col>conteudo_medida</th></tr>\n",
              "\t<tr><th scope=col>&lt;dbl&gt;</th><th scope=col>&lt;chr&gt;</th><th scope=col>&lt;chr&gt;</th><th scope=col>&lt;chr&gt;</th><th scope=col>&lt;chr&gt;</th><th scope=col>&lt;chr&gt;</th><th scope=col>&lt;chr&gt;</th><th scope=col>&lt;chr&gt;</th><th scope=col>&lt;chr&gt;</th></tr>\n",
              "</thead>\n",
              "<tbody>\n",
              "\t<tr><td>603078352615</td><td><span style=white-space:pre-wrap>Acne Solutions Cleansing Bar   </span></td><td><span style=white-space:pre-wrap>Acne Solutions Cleansing Bar for Face &amp; Body      </span></td><td><span style=white-space:pre-wrap>Sabonete líquido Clinique Acne Solutions Cleansing Bar for Face &amp; Body  para Corpo           </span></td><td>Corpo</td><td>Sabonete líquido</td><td><span style=white-space:pre-wrap>Clinique      </span></td><td>156.0</td><td>ml</td></tr>\n",
              "\t<tr><td>131384024501</td><td>Pep Start Daily UV             </td><td>Pep Start Daily UV Protector Broad Spectrum SPF 50</td><td>Protetor solar Clinique Pep Start Daily UV Protector Broad Spectrum SPF 50  para Corpo       </td><td>Corpo</td><td>Protetor solar  </td><td>Clinique      </td><td>30.0 </td><td>ml</td></tr>\n",
              "\t<tr><td> 85873708529</td><td>Deep Comfort Body Wash         </td><td>Deep Comfort Body Wash                            </td><td>Sabonete líquido Clinique Deep Comfort Body Wash  para Corpo                                 </td><td>Corpo</td><td>Sabonete líquido</td><td>Clinique      </td><td>204.0</td><td>ml</td></tr>\n",
              "\t<tr><td>579926605113</td><td>Lipikar Wash Gentle Foaming    </td><td>Lipikar Wash AP+ Gentle Foaming Moisturizing Wash </td><td>Sabonete líquido La Roche-Posay Lipikar Wash AP+ Gentle Foaming Moisturizing Wash  para Corpo</td><td>Corpo</td><td>Sabonete líquido</td><td>La Roche-Posay</td><td>405.0</td><td>ml</td></tr>\n",
              "\t<tr><td>397769055946</td><td>Anthelios AOX Daily Antioxidant</td><td>Anthelios AOX Daily Antioxidant Face Serum SPF 50 </td><td>Protetor solar La Roche-Posay Anthelios AOX Daily Antioxidant Face Serum SPF 50  para Corpo  </td><td>Corpo</td><td>Protetor solar  </td><td>La Roche-Posay</td><td>30.0 </td><td>ml</td></tr>\n",
              "\t<tr><td>981647487600</td><td><span style=white-space:pre-wrap>Basil White Tea Body           </span></td><td><span style=white-space:pre-wrap>Basil &amp; White Tea Body Wash                       </span></td><td><span style=white-space:pre-wrap>Sabonete líquido Nivea Basil &amp; White Tea Body Wash  para Corpo                               </span></td><td>Corpo</td><td>Sabonete líquido</td><td><span style=white-space:pre-wrap>Nivea         </span></td><td>600.0</td><td>ml</td></tr>\n",
              "</tbody>\n",
              "</table>\n"
            ],
            "text/markdown": "\nA tibble: 6 × 9\n\n| cod_prod &lt;dbl&gt; | nome_abrev &lt;chr&gt; | nome_completo &lt;chr&gt; | descricao &lt;chr&gt; | categoria &lt;chr&gt; | sub_categoria &lt;chr&gt; | marca &lt;chr&gt; | conteudo_valor &lt;chr&gt; | conteudo_medida &lt;chr&gt; |\n|---|---|---|---|---|---|---|---|---|\n| 603078352615 | Acne Solutions Cleansing Bar    | Acne Solutions Cleansing Bar for Face &amp; Body       | Sabonete líquido Clinique Acne Solutions Cleansing Bar for Face &amp; Body  para Corpo            | Corpo | Sabonete líquido | Clinique       | 156.0 | ml |\n| 131384024501 | Pep Start Daily UV              | Pep Start Daily UV Protector Broad Spectrum SPF 50 | Protetor solar Clinique Pep Start Daily UV Protector Broad Spectrum SPF 50  para Corpo        | Corpo | Protetor solar   | Clinique       | 30.0  | ml |\n|  85873708529 | Deep Comfort Body Wash          | Deep Comfort Body Wash                             | Sabonete líquido Clinique Deep Comfort Body Wash  para Corpo                                  | Corpo | Sabonete líquido | Clinique       | 204.0 | ml |\n| 579926605113 | Lipikar Wash Gentle Foaming     | Lipikar Wash AP+ Gentle Foaming Moisturizing Wash  | Sabonete líquido La Roche-Posay Lipikar Wash AP+ Gentle Foaming Moisturizing Wash  para Corpo | Corpo | Sabonete líquido | La Roche-Posay | 405.0 | ml |\n| 397769055946 | Anthelios AOX Daily Antioxidant | Anthelios AOX Daily Antioxidant Face Serum SPF 50  | Protetor solar La Roche-Posay Anthelios AOX Daily Antioxidant Face Serum SPF 50  para Corpo   | Corpo | Protetor solar   | La Roche-Posay | 30.0  | ml |\n| 981647487600 | Basil White Tea Body            | Basil &amp; White Tea Body Wash                        | Sabonete líquido Nivea Basil &amp; White Tea Body Wash  para Corpo                                | Corpo | Sabonete líquido | Nivea          | 600.0 | ml |\n\n",
            "text/latex": "A tibble: 6 × 9\n\\begin{tabular}{lllllllll}\n cod\\_prod & nome\\_abrev & nome\\_completo & descricao & categoria & sub\\_categoria & marca & conteudo\\_valor & conteudo\\_medida\\\\\n <dbl> & <chr> & <chr> & <chr> & <chr> & <chr> & <chr> & <chr> & <chr>\\\\\n\\hline\n\t 603078352615 & Acne Solutions Cleansing Bar    & Acne Solutions Cleansing Bar for Face \\& Body       & Sabonete líquido Clinique Acne Solutions Cleansing Bar for Face \\& Body  para Corpo            & Corpo & Sabonete líquido & Clinique       & 156.0 & ml\\\\\n\t 131384024501 & Pep Start Daily UV              & Pep Start Daily UV Protector Broad Spectrum SPF 50 & Protetor solar Clinique Pep Start Daily UV Protector Broad Spectrum SPF 50  para Corpo        & Corpo & Protetor solar   & Clinique       & 30.0  & ml\\\\\n\t  85873708529 & Deep Comfort Body Wash          & Deep Comfort Body Wash                             & Sabonete líquido Clinique Deep Comfort Body Wash  para Corpo                                  & Corpo & Sabonete líquido & Clinique       & 204.0 & ml\\\\\n\t 579926605113 & Lipikar Wash Gentle Foaming     & Lipikar Wash AP+ Gentle Foaming Moisturizing Wash  & Sabonete líquido La Roche-Posay Lipikar Wash AP+ Gentle Foaming Moisturizing Wash  para Corpo & Corpo & Sabonete líquido & La Roche-Posay & 405.0 & ml\\\\\n\t 397769055946 & Anthelios AOX Daily Antioxidant & Anthelios AOX Daily Antioxidant Face Serum SPF 50  & Protetor solar La Roche-Posay Anthelios AOX Daily Antioxidant Face Serum SPF 50  para Corpo   & Corpo & Protetor solar   & La Roche-Posay & 30.0  & ml\\\\\n\t 981647487600 & Basil White Tea Body            & Basil \\& White Tea Body Wash                        & Sabonete líquido Nivea Basil \\& White Tea Body Wash  para Corpo                                & Corpo & Sabonete líquido & Nivea          & 600.0 & ml\\\\\n\\end{tabular}\n",
            "text/plain": [
              "  cod_prod     nome_abrev                     \n",
              "1 603078352615 Acne Solutions Cleansing Bar   \n",
              "2 131384024501 Pep Start Daily UV             \n",
              "3  85873708529 Deep Comfort Body Wash         \n",
              "4 579926605113 Lipikar Wash Gentle Foaming    \n",
              "5 397769055946 Anthelios AOX Daily Antioxidant\n",
              "6 981647487600 Basil White Tea Body           \n",
              "  nome_completo                                     \n",
              "1 Acne Solutions Cleansing Bar for Face & Body      \n",
              "2 Pep Start Daily UV Protector Broad Spectrum SPF 50\n",
              "3 Deep Comfort Body Wash                            \n",
              "4 Lipikar Wash AP+ Gentle Foaming Moisturizing Wash \n",
              "5 Anthelios AOX Daily Antioxidant Face Serum SPF 50 \n",
              "6 Basil & White Tea Body Wash                       \n",
              "  descricao                                                                                    \n",
              "1 Sabonete líquido Clinique Acne Solutions Cleansing Bar for Face & Body  para Corpo           \n",
              "2 Protetor solar Clinique Pep Start Daily UV Protector Broad Spectrum SPF 50  para Corpo       \n",
              "3 Sabonete líquido Clinique Deep Comfort Body Wash  para Corpo                                 \n",
              "4 Sabonete líquido La Roche-Posay Lipikar Wash AP+ Gentle Foaming Moisturizing Wash  para Corpo\n",
              "5 Protetor solar La Roche-Posay Anthelios AOX Daily Antioxidant Face Serum SPF 50  para Corpo  \n",
              "6 Sabonete líquido Nivea Basil & White Tea Body Wash  para Corpo                               \n",
              "  categoria sub_categoria    marca          conteudo_valor conteudo_medida\n",
              "1 Corpo     Sabonete líquido Clinique       156.0          ml             \n",
              "2 Corpo     Protetor solar   Clinique       30.0           ml             \n",
              "3 Corpo     Sabonete líquido Clinique       204.0          ml             \n",
              "4 Corpo     Sabonete líquido La Roche-Posay 405.0          ml             \n",
              "5 Corpo     Protetor solar   La Roche-Posay 30.0           ml             \n",
              "6 Corpo     Sabonete líquido Nivea          600.0          ml             "
            ]
          },
          "metadata": {}
        }
      ]
    },
    {
      "cell_type": "code",
      "source": [
        "install.packages(\"text2vec\")"
      ],
      "metadata": {
        "colab": {
          "base_uri": "https://localhost:8080/"
        },
        "id": "ig4qyKxK5M3o",
        "outputId": "9172a666-1965-4917-9405-4ddd91e975d2"
      },
      "execution_count": null,
      "outputs": [
        {
          "output_type": "stream",
          "name": "stderr",
          "text": [
            "Installing package into ‘/usr/local/lib/R/site-library’\n",
            "(as ‘lib’ is unspecified)\n",
            "\n",
            "also installing the dependencies ‘MatrixExtra’, ‘float’, ‘RhpcBLASctl’, ‘RcppArmadillo’, ‘rsparse’, ‘mlapi’, ‘lgr’\n",
            "\n",
            "\n"
          ]
        }
      ]
    },
    {
      "cell_type": "code",
      "source": [
        "install.packages(\"tokenizers\")\n"
      ],
      "metadata": {
        "colab": {
          "base_uri": "https://localhost:8080/"
        },
        "id": "Uc0CHYmbBEce",
        "outputId": "bcc2dd88-59a2-46ce-88c1-2527aca64acb"
      },
      "execution_count": null,
      "outputs": [
        {
          "output_type": "stream",
          "name": "stderr",
          "text": [
            "Installing package into ‘/usr/local/lib/R/site-library’\n",
            "(as ‘lib’ is unspecified)\n",
            "\n",
            "also installing the dependency ‘SnowballC’\n",
            "\n",
            "\n"
          ]
        }
      ]
    },
    {
      "cell_type": "code",
      "source": [
        "install.packages(\"stopwords\")"
      ],
      "metadata": {
        "colab": {
          "base_uri": "https://localhost:8080/"
        },
        "id": "AteOJL4TBTq-",
        "outputId": "a9475c15-b299-435d-bcbd-391d9b37a1e7"
      },
      "execution_count": null,
      "outputs": [
        {
          "output_type": "stream",
          "name": "stderr",
          "text": [
            "Installing package into ‘/usr/local/lib/R/site-library’\n",
            "(as ‘lib’ is unspecified)\n",
            "\n",
            "also installing the dependency ‘ISOcodes’\n",
            "\n",
            "\n"
          ]
        }
      ]
    },
    {
      "cell_type": "code",
      "source": [
        "# Carregar bibliotecas necessárias\n",
        "library(text2vec)\n",
        "library(dplyr)\n",
        "library(tokenizers)\n",
        "\n",
        "# Lista de stop words (exemplo em português)\n",
        "stop_words <- c(stopwords::stopwords(\"pt\"))\n",
        "\n",
        "# Função para sugerir produto substituto considerando similaridade de descrição\n",
        "sugerir_substituto <- function(cod_prod_informado, df_produtos) {\n",
        "\n",
        "  # Encontrar informações do produto informado\n",
        "  produto_info <- df_produtos %>% filter(cod_prod == cod_prod_informado)\n",
        "\n",
        "  if (nrow(produto_info) == 0) {\n",
        "    return(\"Produto não encontrado\")\n",
        "  }\n",
        "\n",
        "  # Pegar informações relevantes: categoria, subcategoria, valor, medida, e descrição\n",
        "  categoria <- produto_info$categoria[1]\n",
        "  subcategoria <- produto_info$sub_categoria[1]\n",
        "\n",
        "  # Converter 'conteudo_valor' para numérico\n",
        "  valor_ref <- suppressWarnings(as.numeric(as.character(produto_info$conteudo_valor[1])))\n",
        "\n",
        "  if (is.na(valor_ref)) {\n",
        "    return(\"Conteúdo valor não é numérico ou está faltando\")\n",
        "  }\n",
        "\n",
        "  conteudo_medida_ref <- produto_info$conteudo_medida[1]\n",
        "  descricao <- produto_info$descricao[1]\n",
        "\n",
        "  # Print informações usadas para análise\n",
        "  cat(\"Informações do produto para análise:\\n\")\n",
        "  cat(\"  Categoria:\", categoria, \"\\n\")\n",
        "  cat(\"  Subcategoria:\", subcategoria, \"\\n\")\n",
        "  cat(\"  Conteúdo Valor:\", valor_ref, \"\\n\")\n",
        "  cat(\"  Conteúdo Medida:\", conteudo_medida_ref, \"\\n\")\n",
        "  cat(\"  Descrição:\", descricao, \"\\n\\n\")\n",
        "\n",
        "  # Filtrar produtos da mesma categoria, subcategoria e com valor/medida semelhantes\n",
        "  produtos_potenciais <- df_produtos %>%\n",
        "    filter(\n",
        "      categoria == categoria,\n",
        "      sub_categoria == subcategoria,\n",
        "      !is.na(conteudo_valor),  # Excluir produtos sem valor de conteúdo\n",
        "      !is.na(conteudo_medida), # Excluir produtos sem medida de conteúdo\n",
        "      as.numeric(as.character(conteudo_valor)) >= (valor_ref * 0.9),\n",
        "      as.numeric(as.character(conteudo_valor)) <= (valor_ref * 1.1),\n",
        "      conteudo_medida == conteudo_medida_ref,\n",
        "      cod_prod != cod_prod_informado\n",
        "    )\n",
        "\n",
        "  # Se não houver produtos potenciais, retornar mensagem\n",
        "  if (nrow(produtos_potenciais) == 0) {\n",
        "    return(\"Nenhum produto substituto encontrado\")\n",
        "  }\n",
        "\n",
        "  # Combinar as descrições do produto informado e os potenciais substitutos\n",
        "  descricoes <- c(descricao, produtos_potenciais$descricao)\n",
        "\n",
        "  # Verificar se há descrições disponíveis\n",
        "  if (any(is.na(descricoes))) {\n",
        "    descricoes[is.na(descricoes)] <- \"\"\n",
        "  }\n",
        "\n",
        "  # Função personalizada para remover stop words\n",
        "  remove_stop_words <- function(text) {\n",
        "    words <- unlist(strsplit(text, \"\\\\s+\"))\n",
        "    words <- words[!words %in% stop_words]\n",
        "    return(paste(words, collapse = \" \"))\n",
        "  }\n",
        "\n",
        "  # Remover stop words das descrições\n",
        "  descricoes_sem_stopwords <- sapply(descricoes, remove_stop_words)\n",
        "\n",
        "  # Criar um objeto de vocabulário e converter as descrições em uma matriz TF-IDF\n",
        "  it <- itoken(descricoes_sem_stopwords, preprocessor = tolower, tokenizer = word_tokenizer)\n",
        "  vocab <- create_vocabulary(it)\n",
        "  vectorizer <- vocab_vectorizer(vocab)\n",
        "  dtm <- create_dtm(it, vectorizer)\n",
        "\n",
        "  # Calcular a similaridade coseno entre o produto informado e os produtos potenciais\n",
        "  similaridade <- sim2(dtm, method = \"cosine\", norm = \"l2\")\n",
        "\n",
        "  # Obter similaridades do produto informado com os demais produtos\n",
        "  similaridade_produtos <- similaridade[1, -1]  # Ignorar a similaridade com ele mesmo\n",
        "\n",
        "  # Adicionar a similaridade ao dataframe de produtos potenciais\n",
        "  produtos_potenciais$similaridade <- as.numeric(similaridade_produtos)\n",
        "\n",
        "  # Ordenar produtos potenciais pela similaridade\n",
        "  produtos_potenciais <- produtos_potenciais %>%\n",
        "    arrange(desc(similaridade)) %>%\n",
        "    select(cod_prod, nome_completo, conteudo_valor, conteudo_medida, descricao, similaridade)\n",
        "\n",
        "  # Retornar os 3 produtos mais similares e incluir conteúdo valor e medida\n",
        "  if (nrow(produtos_potenciais) >= 3) {\n",
        "    return(head(produtos_potenciais, 3))\n",
        "  } else if (nrow(produtos_potenciais) > 0) {\n",
        "    return(produtos_potenciais)\n",
        "  } else {\n",
        "    return(\"Nenhum produto substituto encontrado\")\n",
        "  }\n",
        "}\n",
        "\n",
        "# Exemplo de execução:\n",
        "#sugerir_substituto(304995765983, df_produtos) #blush\n",
        "# sugerir_substituto(397769055946, df_produtos) #protetor\n",
        "sugerir_substituto(599019471098, df_produtos) #balm spf 15\n",
        "#sugerir_substituto(280274579758, df_produtos) #balm\n",
        "\n",
        "#93172031965\n",
        "#151715339364\n",
        "#599019471098\n",
        "#318718090108\n",
        "# TALVEZ TER ALGUMA MANEIRA DE INFORMAR QUAL A CARACTERÍSTICA MAIS IMPORTANTE, EXEMPLO: QUERO NA COR PINK, OU SPF 20, ETC\n",
        "\n",
        "#1º procura no estoque todos os disponíveis\n"
      ],
      "metadata": {
        "id": "r2askTzosn90",
        "colab": {
          "base_uri": "https://localhost:8080/",
          "height": 331
        },
        "outputId": "0fa8c37d-d95d-4269-db0d-9a7742ea9d40"
      },
      "execution_count": null,
      "outputs": [
        {
          "output_type": "stream",
          "name": "stdout",
          "text": [
            "Informações do produto para análise:\n",
            "  Categoria: Lábios \n",
            "  Subcategoria: Balm \n",
            "  Conteúdo Valor: 4.8 \n",
            "  Conteúdo Medida: ml \n",
            "  Descrição: Balm Nivea NIVEA Men Lip Balm, Active Care SPF for 24h Moisture, 4.8 g  para Lábios \n",
            "\n"
          ]
        },
        {
          "output_type": "display_data",
          "data": {
            "text/html": [
              "<table class=\"dataframe\">\n",
              "<caption>A tibble: 3 × 6</caption>\n",
              "<thead>\n",
              "\t<tr><th scope=col>cod_prod</th><th scope=col>nome_completo</th><th scope=col>conteudo_valor</th><th scope=col>conteudo_medida</th><th scope=col>descricao</th><th scope=col>similaridade</th></tr>\n",
              "\t<tr><th scope=col>&lt;dbl&gt;</th><th scope=col>&lt;chr&gt;</th><th scope=col>&lt;chr&gt;</th><th scope=col>&lt;chr&gt;</th><th scope=col>&lt;chr&gt;</th><th scope=col>&lt;dbl&gt;</th></tr>\n",
              "</thead>\n",
              "<tbody>\n",
              "\t<tr><td>447460417250</td><td>NIVEA Lip Balm, Original Care                                                                                              </td><td>4.8</td><td>ml</td><td>Balm Nivea NIVEA Lip Balm, Original Care  para Lábios                                                                                              </td><td>0.7484552</td></tr>\n",
              "\t<tr><td>318718090108</td><td>NIVEA Men 24 H melt-in mpisture Active Care clearing Lip Balm, SPF 15, 4.8g &amp; NIVEA Lip Balm, Fruity Strawberry Shine, 4.8g</td><td>4.8</td><td>ml</td><td><span style=white-space:pre-wrap>Balm Nivea NIVEA Men 24 H melt-in mpisture Active Care clearing Lip Balm, SPF 15, 4.8g &amp; NIVEA Lip Balm, Fruity Strawberry Shine, 4.8g  para Lábios</span></td><td>0.6993997</td></tr>\n",
              "\t<tr><td>360274400952</td><td>NIVEA Lip Balm, Original Care, Silver 4.8g                                                                                 </td><td>4.8</td><td>ml</td><td>Balm Nivea NIVEA Lip Balm, Original Care, Silver 4.8g  para Lábios                                                                                 </td><td>0.6929349</td></tr>\n",
              "</tbody>\n",
              "</table>\n"
            ],
            "text/markdown": "\nA tibble: 3 × 6\n\n| cod_prod &lt;dbl&gt; | nome_completo &lt;chr&gt; | conteudo_valor &lt;chr&gt; | conteudo_medida &lt;chr&gt; | descricao &lt;chr&gt; | similaridade &lt;dbl&gt; |\n|---|---|---|---|---|---|\n| 447460417250 | NIVEA Lip Balm, Original Care                                                                                               | 4.8 | ml | Balm Nivea NIVEA Lip Balm, Original Care  para Lábios                                                                                               | 0.7484552 |\n| 318718090108 | NIVEA Men 24 H melt-in mpisture Active Care clearing Lip Balm, SPF 15, 4.8g &amp; NIVEA Lip Balm, Fruity Strawberry Shine, 4.8g | 4.8 | ml | Balm Nivea NIVEA Men 24 H melt-in mpisture Active Care clearing Lip Balm, SPF 15, 4.8g &amp; NIVEA Lip Balm, Fruity Strawberry Shine, 4.8g  para Lábios | 0.6993997 |\n| 360274400952 | NIVEA Lip Balm, Original Care, Silver 4.8g                                                                                  | 4.8 | ml | Balm Nivea NIVEA Lip Balm, Original Care, Silver 4.8g  para Lábios                                                                                  | 0.6929349 |\n\n",
            "text/latex": "A tibble: 3 × 6\n\\begin{tabular}{llllll}\n cod\\_prod & nome\\_completo & conteudo\\_valor & conteudo\\_medida & descricao & similaridade\\\\\n <dbl> & <chr> & <chr> & <chr> & <chr> & <dbl>\\\\\n\\hline\n\t 447460417250 & NIVEA Lip Balm, Original Care                                                                                               & 4.8 & ml & Balm Nivea NIVEA Lip Balm, Original Care  para Lábios                                                                                               & 0.7484552\\\\\n\t 318718090108 & NIVEA Men 24 H melt-in mpisture Active Care clearing Lip Balm, SPF 15, 4.8g \\& NIVEA Lip Balm, Fruity Strawberry Shine, 4.8g & 4.8 & ml & Balm Nivea NIVEA Men 24 H melt-in mpisture Active Care clearing Lip Balm, SPF 15, 4.8g \\& NIVEA Lip Balm, Fruity Strawberry Shine, 4.8g  para Lábios & 0.6993997\\\\\n\t 360274400952 & NIVEA Lip Balm, Original Care, Silver 4.8g                                                                                  & 4.8 & ml & Balm Nivea NIVEA Lip Balm, Original Care, Silver 4.8g  para Lábios                                                                                  & 0.6929349\\\\\n\\end{tabular}\n",
            "text/plain": [
              "  cod_prod    \n",
              "1 447460417250\n",
              "2 318718090108\n",
              "3 360274400952\n",
              "  nome_completo                                                                                                              \n",
              "1 NIVEA Lip Balm, Original Care                                                                                              \n",
              "2 NIVEA Men 24 H melt-in mpisture Active Care clearing Lip Balm, SPF 15, 4.8g & NIVEA Lip Balm, Fruity Strawberry Shine, 4.8g\n",
              "3 NIVEA Lip Balm, Original Care, Silver 4.8g                                                                                 \n",
              "  conteudo_valor conteudo_medida\n",
              "1 4.8            ml             \n",
              "2 4.8            ml             \n",
              "3 4.8            ml             \n",
              "  descricao                                                                                                                                          \n",
              "1 Balm Nivea NIVEA Lip Balm, Original Care  para Lábios                                                                                              \n",
              "2 Balm Nivea NIVEA Men 24 H melt-in mpisture Active Care clearing Lip Balm, SPF 15, 4.8g & NIVEA Lip Balm, Fruity Strawberry Shine, 4.8g  para Lábios\n",
              "3 Balm Nivea NIVEA Lip Balm, Original Care, Silver 4.8g  para Lábios                                                                                 \n",
              "  similaridade\n",
              "1 0.7484552   \n",
              "2 0.6993997   \n",
              "3 0.6929349   "
            ]
          },
          "metadata": {}
        }
      ]
    },
    {
      "cell_type": "markdown",
      "source": [
        "#INTEGRAÇÃO COM ESTOQUE"
      ],
      "metadata": {
        "id": "LxYw6pnhIGER"
      }
    },
    {
      "cell_type": "code",
      "source": [
        "df_estoque <- read_csv(\"/content/daily_stock_dataset.csv\")"
      ],
      "metadata": {
        "colab": {
          "base_uri": "https://localhost:8080/"
        },
        "id": "P7fOjUYXFwgf",
        "outputId": "6896cce0-2189-423b-9c9c-8513cafe336b"
      },
      "execution_count": null,
      "outputs": [
        {
          "output_type": "stream",
          "name": "stderr",
          "text": [
            "\u001b[1mRows: \u001b[22m\u001b[34m115415\u001b[39m \u001b[1mColumns: \u001b[22m\u001b[34m3\u001b[39m\n",
            "\u001b[36m──\u001b[39m \u001b[1mColumn specification\u001b[22m \u001b[36m────────────────────────────────────────────────────────\u001b[39m\n",
            "\u001b[1mDelimiter:\u001b[22m \",\"\n",
            "\u001b[31mchr\u001b[39m (1): cod_loja\n",
            "\u001b[32mdbl\u001b[39m (2): cod_prod, quantidade\n",
            "\n",
            "\u001b[36mℹ\u001b[39m Use `spec()` to retrieve the full column specification for this data.\n",
            "\u001b[36mℹ\u001b[39m Specify the column types or set `show_col_types = FALSE` to quiet this message.\n"
          ]
        }
      ]
    },
    {
      "cell_type": "code",
      "source": [
        "head(df_estoque)"
      ],
      "metadata": {
        "colab": {
          "base_uri": "https://localhost:8080/",
          "height": 286
        },
        "id": "AAJoFAqJGgDe",
        "outputId": "f7dd7274-af8b-42c0-9c08-bdf375c3ac26"
      },
      "execution_count": null,
      "outputs": [
        {
          "output_type": "display_data",
          "data": {
            "text/html": [
              "<table class=\"dataframe\">\n",
              "<caption>A tibble: 6 × 3</caption>\n",
              "<thead>\n",
              "\t<tr><th scope=col>cod_loja</th><th scope=col>cod_prod</th><th scope=col>quantidade</th></tr>\n",
              "\t<tr><th scope=col>&lt;chr&gt;</th><th scope=col>&lt;dbl&gt;</th><th scope=col>&lt;dbl&gt;</th></tr>\n",
              "</thead>\n",
              "<tbody>\n",
              "\t<tr><td>RJ_37</td><td>603078352615</td><td> 5</td></tr>\n",
              "\t<tr><td>RJ_37</td><td>131384024501</td><td>88</td></tr>\n",
              "\t<tr><td>RJ_37</td><td> 85873708529</td><td> 0</td></tr>\n",
              "\t<tr><td>RJ_37</td><td>579926605113</td><td>56</td></tr>\n",
              "\t<tr><td>RJ_37</td><td>397769055946</td><td>93</td></tr>\n",
              "\t<tr><td>RJ_37</td><td>981647487600</td><td>25</td></tr>\n",
              "</tbody>\n",
              "</table>\n"
            ],
            "text/markdown": "\nA tibble: 6 × 3\n\n| cod_loja &lt;chr&gt; | cod_prod &lt;dbl&gt; | quantidade &lt;dbl&gt; |\n|---|---|---|\n| RJ_37 | 603078352615 |  5 |\n| RJ_37 | 131384024501 | 88 |\n| RJ_37 |  85873708529 |  0 |\n| RJ_37 | 579926605113 | 56 |\n| RJ_37 | 397769055946 | 93 |\n| RJ_37 | 981647487600 | 25 |\n\n",
            "text/latex": "A tibble: 6 × 3\n\\begin{tabular}{lll}\n cod\\_loja & cod\\_prod & quantidade\\\\\n <chr> & <dbl> & <dbl>\\\\\n\\hline\n\t RJ\\_37 & 603078352615 &  5\\\\\n\t RJ\\_37 & 131384024501 & 88\\\\\n\t RJ\\_37 &  85873708529 &  0\\\\\n\t RJ\\_37 & 579926605113 & 56\\\\\n\t RJ\\_37 & 397769055946 & 93\\\\\n\t RJ\\_37 & 981647487600 & 25\\\\\n\\end{tabular}\n",
            "text/plain": [
              "  cod_loja cod_prod     quantidade\n",
              "1 RJ_37    603078352615  5        \n",
              "2 RJ_37    131384024501 88        \n",
              "3 RJ_37     85873708529  0        \n",
              "4 RJ_37    579926605113 56        \n",
              "5 RJ_37    397769055946 93        \n",
              "6 RJ_37    981647487600 25        "
            ]
          },
          "metadata": {}
        }
      ]
    },
    {
      "cell_type": "code",
      "source": [
        "# Função atualizada para verificar o estoque e sugerir os 3 produtos substitutos mais similares\n",
        "sugerir_substituto_com_estoque <- function(cod_prod_informado, cod_loja, df_produtos, df_estoque) {\n",
        "\n",
        "  # Encontrar informações do produto informado\n",
        "  produto_info <- df_produtos %>% filter(cod_prod == cod_prod_informado)\n",
        "\n",
        "  if (nrow(produto_info) == 0) {\n",
        "    return(\"Produto não encontrado\")\n",
        "  }\n",
        "\n",
        "  # Pegar informações relevantes: categoria, subcategoria, valor, medida, e descrição\n",
        "  categoria <- produto_info$categoria[1]\n",
        "  subcategoria <- produto_info$sub_categoria[1]\n",
        "\n",
        "  # Converter 'conteudo_valor' para numérico\n",
        "  valor_ref <- suppressWarnings(as.numeric(as.character(produto_info$conteudo_valor[1])))\n",
        "\n",
        "  if (is.na(valor_ref)) {\n",
        "    return(\"Conteúdo valor não é numérico ou está faltando\")\n",
        "  }\n",
        "\n",
        "  conteudo_medida_ref <- produto_info$conteudo_medida[1]\n",
        "  descricao <- produto_info$descricao[1]\n",
        "\n",
        "  # Print informações usadas para análise\n",
        "  cat(\"Informações do produto para análise:\\n\")\n",
        "  cat(\"  Categoria:\", categoria, \"\\n\")\n",
        "  cat(\"  Subcategoria:\", subcategoria, \"\\n\")\n",
        "  cat(\"  Conteúdo Valor:\", valor_ref, \"\\n\")\n",
        "  cat(\"  Conteúdo Medida:\", conteudo_medida_ref, \"\\n\")\n",
        "  cat(\"  Descrição:\", descricao, \"\\n\\n\")\n",
        "\n",
        "  # Filtrar produtos da mesma categoria, subcategoria e com valor/medida semelhantes\n",
        "  produtos_potenciais <- df_produtos %>%\n",
        "    filter(\n",
        "      categoria == categoria,\n",
        "      sub_categoria == subcategoria,\n",
        "      !is.na(conteudo_valor),  # Excluir produtos sem valor de conteúdo\n",
        "      !is.na(conteudo_medida), # Excluir produtos sem medida de conteúdo\n",
        "      as.numeric(as.character(conteudo_valor)) >= (valor_ref * 0.9),\n",
        "      as.numeric(as.character(conteudo_valor)) <= (valor_ref * 1.1),\n",
        "      conteudo_medida == conteudo_medida_ref,\n",
        "      cod_prod != cod_prod_informado\n",
        "    )\n",
        "\n",
        "  # Se não houver produtos potenciais, retornar mensagem\n",
        "  if (nrow(produtos_potenciais) == 0) {\n",
        "    return(\"Nenhum produto substituto encontrado\")\n",
        "  }\n",
        "\n",
        "\n",
        "#SUBSTITUIR TODA A PARTE DA DESCRIÇÃO PRO GEMINI, PEGANDO DO ESTOQUE ANTES\n",
        "# CALCULAR DESVIO PADRÃO DA CATEGORIA\n",
        "\n",
        "# PENDENTES PRA SPRINT 4:\n",
        "\n",
        "  # Combinar as descrições do produto informado e os potenciais substitutos\n",
        "  descricoes <- c(descricao, produtos_potenciais$descricao)\n",
        "\n",
        "  # Verificar se há descrições disponíveis\n",
        "  if (any(is.na(descricoes))) {\n",
        "    descricoes[is.na(descricoes)] <- \"\"\n",
        "  }\n",
        "\n",
        "  # Função personalizada para remover stop words\n",
        "  remove_stop_words <- function(text) {\n",
        "    words <- unlist(strsplit(text, \"\\\\s+\"))\n",
        "    words <- words[!words %in% stop_words]\n",
        "    return(paste(words, collapse = \" \"))\n",
        "  }\n",
        "\n",
        "  # Remover stop words das descrições\n",
        "  descricoes_sem_stopwords <- sapply(descricoes, remove_stop_words)\n",
        "\n",
        "  # Criar um objeto de vocabulário e converter as descrições em uma matriz TF-IDF\n",
        "  it <- itoken(descricoes_sem_stopwords, preprocessor = tolower, tokenizer = word_tokenizer)\n",
        "  vocab <- create_vocabulary(it)\n",
        "  vectorizer <- vocab_vectorizer(vocab)\n",
        "  dtm <- create_dtm(it, vectorizer)\n",
        "\n",
        "  # Calcular a similaridade coseno entre o produto informado e os produtos potenciais\n",
        "  similaridade <- sim2(dtm, method = \"cosine\", norm = \"l2\")\n",
        "\n",
        "  # Obter similaridades do produto informado com os demais produtos\n",
        "  similaridade_produtos <- similaridade[1, -1]  # Ignorar a similaridade com ele mesmo\n",
        "\n",
        "  # Adicionar a similaridade ao dataframe de produtos potenciais\n",
        "  produtos_potenciais$similaridade <- as.numeric(similaridade_produtos)\n",
        "\n",
        "  # Ordenar produtos potenciais pela similaridade\n",
        "  produtos_potenciais <- produtos_potenciais %>%\n",
        "    arrange(desc(similaridade)) %>%\n",
        "    select(cod_prod, nome_completo, conteudo_valor, conteudo_medida, descricao, similaridade)\n",
        "\n",
        "  # Verificar estoque na loja especificada para os produtos potenciais\n",
        "  produtos_em_estoque <- data.frame()  # Inicializa um dataframe vazio para armazenar os produtos em estoque\n",
        "  for (i in 1:nrow(produtos_potenciais)) {\n",
        "    produto_substituto <- produtos_potenciais$cod_prod[i]\n",
        "\n",
        "    # Verificar o estoque do produto na loja\n",
        "    estoque_produto <- df_estoque %>%\n",
        "      filter(cod_loja == cod_loja & cod_prod == produto_substituto) %>%\n",
        "      select(quantidade) %>%\n",
        "      pull()\n",
        "\n",
        "    # Se o produto estiver em estoque (quantidade > 0), adicionar à lista de produtos em estoque\n",
        "    if (length(estoque_produto) > 0 && estoque_produto[1] > 0) {\n",
        "      produtos_em_estoque <- rbind(produtos_em_estoque, produtos_potenciais[i, ])\n",
        "    }\n",
        "\n",
        "    # Retorna assim que tiver 3 produtos em estoque\n",
        "    if (nrow(produtos_em_estoque) == 3) {\n",
        "      return(produtos_em_estoque)\n",
        "    }\n",
        "  }\n",
        "\n",
        "  # Se houver menos de 3 produtos, retornar os que estiverem em estoque\n",
        "  if (nrow(produtos_em_estoque) > 0) {\n",
        "    return(produtos_em_estoque)\n",
        "  } else {\n",
        "    return(\"Nenhum produto substituto disponível em estoque\")\n",
        "  }\n",
        "}\n",
        "\n",
        "# Exemplo de execução:\n",
        "sugerir_substituto_com_estoque(599019471098, \"RJ_37\", df_produtos, df_estoque)\n"
      ],
      "metadata": {
        "colab": {
          "base_uri": "https://localhost:8080/",
          "height": 331
        },
        "id": "Z2sg_oZDForB",
        "outputId": "2984cf83-1adc-4a50-9c15-3512bc02a4a4"
      },
      "execution_count": null,
      "outputs": [
        {
          "output_type": "stream",
          "name": "stdout",
          "text": [
            "Informações do produto para análise:\n",
            "  Categoria: Lábios \n",
            "  Subcategoria: Balm \n",
            "  Conteúdo Valor: 4.8 \n",
            "  Conteúdo Medida: ml \n",
            "  Descrição: Balm Nivea NIVEA Men Lip Balm, Active Care SPF for 24h Moisture, 4.8 g  para Lábios \n",
            "\n"
          ]
        },
        {
          "output_type": "display_data",
          "data": {
            "text/html": [
              "<table class=\"dataframe\">\n",
              "<caption>A tibble: 3 × 6</caption>\n",
              "<thead>\n",
              "\t<tr><th scope=col>cod_prod</th><th scope=col>nome_completo</th><th scope=col>conteudo_valor</th><th scope=col>conteudo_medida</th><th scope=col>descricao</th><th scope=col>similaridade</th></tr>\n",
              "\t<tr><th scope=col>&lt;dbl&gt;</th><th scope=col>&lt;chr&gt;</th><th scope=col>&lt;chr&gt;</th><th scope=col>&lt;chr&gt;</th><th scope=col>&lt;chr&gt;</th><th scope=col>&lt;dbl&gt;</th></tr>\n",
              "</thead>\n",
              "<tbody>\n",
              "\t<tr><td>318718090108</td><td>NIVEA Men 24 H melt-in mpisture Active Care clearing Lip Balm, SPF 15, 4.8g &amp; NIVEA Lip Balm, Fruity Strawberry Shine, 4.8g</td><td>4.8</td><td>ml</td><td><span style=white-space:pre-wrap>Balm Nivea NIVEA Men 24 H melt-in mpisture Active Care clearing Lip Balm, SPF 15, 4.8g &amp; NIVEA Lip Balm, Fruity Strawberry Shine, 4.8g  para Lábios</span></td><td>0.6993997</td></tr>\n",
              "\t<tr><td>360274400952</td><td>NIVEA Lip Balm, Original Care, Silver 4.8g                                                                                 </td><td>4.8</td><td>ml</td><td>Balm Nivea NIVEA Lip Balm, Original Care, Silver 4.8g  para Lábios                                                                                 </td><td>0.6929349</td></tr>\n",
              "\t<tr><td>933773068062</td><td>NIVEA Lip Balm, Soft Rose, 4.8g                                                                                            </td><td>4.8</td><td>ml</td><td>Balm Nivea NIVEA Lip Balm, Soft Rose, 4.8g  para Lábios                                                                                            </td><td>0.6537205</td></tr>\n",
              "</tbody>\n",
              "</table>\n"
            ],
            "text/markdown": "\nA tibble: 3 × 6\n\n| cod_prod &lt;dbl&gt; | nome_completo &lt;chr&gt; | conteudo_valor &lt;chr&gt; | conteudo_medida &lt;chr&gt; | descricao &lt;chr&gt; | similaridade &lt;dbl&gt; |\n|---|---|---|---|---|---|\n| 318718090108 | NIVEA Men 24 H melt-in mpisture Active Care clearing Lip Balm, SPF 15, 4.8g &amp; NIVEA Lip Balm, Fruity Strawberry Shine, 4.8g | 4.8 | ml | Balm Nivea NIVEA Men 24 H melt-in mpisture Active Care clearing Lip Balm, SPF 15, 4.8g &amp; NIVEA Lip Balm, Fruity Strawberry Shine, 4.8g  para Lábios | 0.6993997 |\n| 360274400952 | NIVEA Lip Balm, Original Care, Silver 4.8g                                                                                  | 4.8 | ml | Balm Nivea NIVEA Lip Balm, Original Care, Silver 4.8g  para Lábios                                                                                  | 0.6929349 |\n| 933773068062 | NIVEA Lip Balm, Soft Rose, 4.8g                                                                                             | 4.8 | ml | Balm Nivea NIVEA Lip Balm, Soft Rose, 4.8g  para Lábios                                                                                             | 0.6537205 |\n\n",
            "text/latex": "A tibble: 3 × 6\n\\begin{tabular}{llllll}\n cod\\_prod & nome\\_completo & conteudo\\_valor & conteudo\\_medida & descricao & similaridade\\\\\n <dbl> & <chr> & <chr> & <chr> & <chr> & <dbl>\\\\\n\\hline\n\t 318718090108 & NIVEA Men 24 H melt-in mpisture Active Care clearing Lip Balm, SPF 15, 4.8g \\& NIVEA Lip Balm, Fruity Strawberry Shine, 4.8g & 4.8 & ml & Balm Nivea NIVEA Men 24 H melt-in mpisture Active Care clearing Lip Balm, SPF 15, 4.8g \\& NIVEA Lip Balm, Fruity Strawberry Shine, 4.8g  para Lábios & 0.6993997\\\\\n\t 360274400952 & NIVEA Lip Balm, Original Care, Silver 4.8g                                                                                  & 4.8 & ml & Balm Nivea NIVEA Lip Balm, Original Care, Silver 4.8g  para Lábios                                                                                  & 0.6929349\\\\\n\t 933773068062 & NIVEA Lip Balm, Soft Rose, 4.8g                                                                                             & 4.8 & ml & Balm Nivea NIVEA Lip Balm, Soft Rose, 4.8g  para Lábios                                                                                             & 0.6537205\\\\\n\\end{tabular}\n",
            "text/plain": [
              "  cod_prod    \n",
              "1 318718090108\n",
              "2 360274400952\n",
              "3 933773068062\n",
              "  nome_completo                                                                                                              \n",
              "1 NIVEA Men 24 H melt-in mpisture Active Care clearing Lip Balm, SPF 15, 4.8g & NIVEA Lip Balm, Fruity Strawberry Shine, 4.8g\n",
              "2 NIVEA Lip Balm, Original Care, Silver 4.8g                                                                                 \n",
              "3 NIVEA Lip Balm, Soft Rose, 4.8g                                                                                            \n",
              "  conteudo_valor conteudo_medida\n",
              "1 4.8            ml             \n",
              "2 4.8            ml             \n",
              "3 4.8            ml             \n",
              "  descricao                                                                                                                                          \n",
              "1 Balm Nivea NIVEA Men 24 H melt-in mpisture Active Care clearing Lip Balm, SPF 15, 4.8g & NIVEA Lip Balm, Fruity Strawberry Shine, 4.8g  para Lábios\n",
              "2 Balm Nivea NIVEA Lip Balm, Original Care, Silver 4.8g  para Lábios                                                                                 \n",
              "3 Balm Nivea NIVEA Lip Balm, Soft Rose, 4.8g  para Lábios                                                                                            \n",
              "  similaridade\n",
              "1 0.6993997   \n",
              "2 0.6929349   \n",
              "3 0.6537205   "
            ]
          },
          "metadata": {}
        }
      ]
    },
    {
      "cell_type": "markdown",
      "source": [
        "Próximos passos:\n",
        "- Implementar sistema de LLM para a descrição;\n",
        "- Puxar informações de preço de margem.\n",
        "- Considerar outras variáveis?"
      ],
      "metadata": {
        "id": "BFBKbBrgq2c9"
      }
    }
  ]
}